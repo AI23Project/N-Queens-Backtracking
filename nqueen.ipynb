{
 "cells": [
  {
   "cell_type": "markdown",
   "id": "18ffa9fe-1ec4-4c72-90d8-4f1688579137",
   "metadata": {},
   "source": [
    "<font size=\"10\">N-Queen Problem Solver</font>"
   ]
  },
  {
   "cell_type": "markdown",
   "id": "64b861c6-9a0a-426a-8084-a96cfee1853c",
   "metadata": {},
   "source": [
    "<font size=\"5\">1. Backtracking Algorithm Implementation</font>"
   ]
  },
  {
   "cell_type": "code",
   "execution_count": 1,
   "id": "5506d719-ed46-44af-9028-b21e6855bfca",
   "metadata": {},
   "outputs": [
    {
     "data": {
      "application/vnd.jupyter.widget-view+json": {
       "model_id": "3f708ef513b340cfaa4807c098dc8a38",
       "version_major": 2,
       "version_minor": 0
      },
      "text/plain": [
       "interactive(children=(IntSlider(value=4, description='N', max=24, min=1), Button(description='Run Interact', s…"
      ]
     },
     "metadata": {},
     "output_type": "display_data"
    },
    {
     "data": {
      "text/plain": [
       "<function __main__.main(N)>"
      ]
     },
     "execution_count": 1,
     "metadata": {},
     "output_type": "execute_result"
    }
   ],
   "source": [
    "from ipywidgets import interact_manual\n",
    "import ipywidgets as widgets\n",
    "\n",
    "def print_solution(board, N):\n",
    "    for i in range(N):\n",
    "        print('      ', end = '')\n",
    "        for j in range(N):\n",
    "            if(board[i][j] == 1):\n",
    "                print('⬛', end = '')\n",
    "            else:\n",
    "                print('⬜', end = '')\n",
    "        print()\n",
    "\n",
    "def is_queen_safe(board, row, col, N):\n",
    "    # Check row\n",
    "    for i in range(col):\n",
    "        if board[row][i] == 1:\n",
    "            return False\n",
    "    # Check upper diagonal\n",
    "    for i, j in zip(range(row, -1, -1), range(col, -1, -1)):\n",
    "        if board[i][j] == 1:\n",
    "            return False\n",
    "    # Check lower diagonal\n",
    "    for i, j in zip(range(row, N, 1), range(col, -1, -1)):\n",
    "        if board[i][j] == 1:\n",
    "            return False\n",
    "    return True\n",
    " \n",
    "def solve_NQ(board, col, N):\n",
    "    # base case\n",
    "    if col >= N:\n",
    "        return True\n",
    "    for i in range(N):\n",
    "        if is_queen_safe(board, i, col, N):\n",
    "            # Place queen\n",
    "            board[i][col] = 1\n",
    "            # Recursion\n",
    "            if solve_NQ(board, col + 1, N) == True:\n",
    "                return True\n",
    "            # Remove queen\n",
    "            board[i][col] = 0\n",
    "    return False\n",
    "\n",
    "def main(N):\n",
    "    board = [[0 for j in range(N)] for i in range(N)]\n",
    "    if solve_NQ(board, 0, N) == False:\n",
    "        print (\"Solution does not exist\")\n",
    "    else:\n",
    "        print (\"Solution: \\n\")\n",
    "        print_solution(board, N)\n",
    "\n",
    "interact_manual(main, N = widgets.IntSlider(min=1, max=24, step=1, value=4))"
   ]
  },
  {
   "cell_type": "markdown",
   "id": "976e7a4c-a6ec-44e0-a006-4bbd842eb971",
   "metadata": {},
   "source": [
    "<font size=\"5\">2. Differential Evolution Algorithm Implementation</font>"
   ]
  },
  {
   "cell_type": "code",
   "execution_count": 1,
   "id": "7df11ca9-0753-4e49-a97c-2f2741bc62cf",
   "metadata": {},
   "outputs": [
    {
     "data": {
      "application/vnd.jupyter.widget-view+json": {
       "model_id": "e720d4a7fa964aa6ad5ec8174abe336d",
       "version_major": 2,
       "version_minor": 0
      },
      "text/plain": [
       "interactive(children=(IntSlider(value=4, description='N', max=24, min=1), IntSlider(value=10000, description='…"
      ]
     },
     "metadata": {},
     "output_type": "display_data"
    },
    {
     "data": {
      "text/plain": [
       "<function __main__.differential_evolution(N, pop_size, max_gen)>"
      ]
     },
     "execution_count": 1,
     "metadata": {},
     "output_type": "execute_result"
    }
   ],
   "source": [
    "from ipywidgets import interact_manual\n",
    "import ipywidgets as widgets\n",
    "import random\n",
    "import numpy as np\n",
    "\n",
    "# Define the parameters for Differential Evolution\n",
    "MUTATION_FACTOR = 0.8\n",
    "CROSSOVER_PROBABILITY = 0.7\n",
    "\n",
    "# Initiallizing the Population\n",
    "def init_pop(N, pop_size):\n",
    "    # Initialize the population with random solutions\n",
    "    population = [np.random.randint(0, N, N) for i in range(pop_size)]\n",
    "    return population\n",
    "\n",
    "\n",
    "# Define the fitness function for the N-Queens problem\n",
    "def fitness_function(board, N):\n",
    "    # Count the number of conflicts (queens attacking each other)\n",
    "    conflicts = 0\n",
    "    for i in range(N):\n",
    "        for j in range(i+1, N):\n",
    "            if board[i] == board[j]:\n",
    "                conflicts += 1\n",
    "            elif abs(i-j) == abs(board[i]-board[j]):\n",
    "                conflicts += 1\n",
    "    return conflicts\n",
    "\n",
    "# Define the mutation function for Differential Evolution\n",
    "def mutation(population, target_vector, N):\n",
    "    a, b, c = random.sample(population, 3)\n",
    "    mutant_vector = np.clip(a + MUTATION_FACTOR * (np.array(b) - np.array(c)), 0, N-1).astype(int)\n",
    "\n",
    "    return mutant_vector\n",
    "\n",
    "# Define the crossover function for Differential Evolution\n",
    "def crossover(target_vector, mutant_vector, N):\n",
    "    crossover_points = [random.randint(0, N-1) for i in range(N)]\n",
    "    trial_vector = []\n",
    "    for i in range(N):\n",
    "        if random.random() < CROSSOVER_PROBABILITY or i == crossover_points[i]:\n",
    "            trial_vector.append(mutant_vector[i])\n",
    "        else:\n",
    "            trial_vector.append(target_vector[i])\n",
    "    return trial_vector\n",
    "\n",
    "# Main Function\n",
    "def differential_evolution(N, pop_size, max_gen):\n",
    "    population = init_pop(N, pop_size)\n",
    "    # Run the Differential Evolution algorithm\n",
    "    for generation in range(max_gen):\n",
    "        # Evaluate the fitness of the population\n",
    "        fitness_values = [fitness_function(board, N) for board in population]\n",
    "        best_fitness = min(fitness_values)\n",
    "        best_solution = population[np.argmin(fitness_values)]\n",
    "        print('Generation {}: Best fitness = {}'.format(generation, best_fitness), end=\"\\r\")\n",
    "        if best_fitness == 0:\n",
    "            break\n",
    "        # Generate offspring using Differential Evolution\n",
    "        offspring = []\n",
    "        for i in range(pop_size):\n",
    "            target_vector = population[i]\n",
    "            mutant_vector = mutation(population, target_vector, N)\n",
    "            trial_vector = crossover(target_vector, mutant_vector, N)\n",
    "            offspring.append(trial_vector)\n",
    "        # Replace the population with the offspring\n",
    "        population = offspring\n",
    "\n",
    "    print('Generation {}: Best fitness = {}'.format(generation, best_fitness))\n",
    "    print('Best solution found:                     ')\n",
    "    for i in range(N):\n",
    "        row = ['⬜' if j != best_solution[i]  else '⬛' for j in range(N)]\n",
    "        print(''.join(row))\n",
    "\n",
    "interact_manual(differential_evolution,\n",
    "                N = widgets.IntSlider(min=1, max=24, step=1, value=4),\n",
    "                pop_size = widgets.IntSlider(min=100, max=100000, step=100, value=10000),\n",
    "                max_gen = widgets.IntSlider(min=10, max=1000, step=5, value=100))"
   ]
  }
 ],
 "metadata": {
  "kernelspec": {
   "display_name": "Python 3 (ipykernel)",
   "language": "python",
   "name": "python3"
  },
  "language_info": {
   "codemirror_mode": {
    "name": "ipython",
    "version": 3
   },
   "file_extension": ".py",
   "mimetype": "text/x-python",
   "name": "python",
   "nbconvert_exporter": "python",
   "pygments_lexer": "ipython3",
   "version": "3.11.4"
  }
 },
 "nbformat": 4,
 "nbformat_minor": 5
}
